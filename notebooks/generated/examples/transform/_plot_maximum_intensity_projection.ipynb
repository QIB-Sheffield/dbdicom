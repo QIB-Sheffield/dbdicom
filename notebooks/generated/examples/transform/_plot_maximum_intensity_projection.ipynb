{
  "cells": [
    {
      "cell_type": "markdown",
      "metadata": {},
      "source": [
        "\n# Maximum intensity projection\n\nCreating a maximum intensity projection of an image volume.\n"
      ]
    },
    {
      "cell_type": "code",
      "execution_count": null,
      "metadata": {
        "collapsed": false
      },
      "outputs": [],
      "source": [
        "import numpy as np\nimport dbdicom as db\nfrom dbdicom.extensions.numpy import maximum_intensity_projection"
      ]
    },
    {
      "cell_type": "markdown",
      "metadata": {},
      "source": [
        "Create some test data, in this case a zero-filled array, describing 8 MRI images each measured at 3 flip angles and 2 repetition times:\n\n"
      ]
    },
    {
      "cell_type": "code",
      "execution_count": null,
      "metadata": {
        "collapsed": false
      },
      "outputs": [],
      "source": [
        "coords = {\n    'SliceLocation': np.arange(8),\n    'FlipAngle': np.array([2, 15, 30]),\n    'RepetitionTime': np.array([2.5, 5.0]),\n}\nseries = db.zeros((128,128,8,3,2), gridcoords=coords)"
      ]
    },
    {
      "cell_type": "markdown",
      "metadata": {},
      "source": [
        "Create a maximum intensity projection\n\n"
      ]
    },
    {
      "cell_type": "code",
      "execution_count": null,
      "metadata": {
        "collapsed": false
      },
      "outputs": [],
      "source": [
        "mip = maximum_intensity_projection(series, dims=tuple(coords), axis=0)"
      ]
    },
    {
      "cell_type": "markdown",
      "metadata": {},
      "source": [
        "To see what happened we can retrieve the nympy array of the MIP\n\n"
      ]
    },
    {
      "cell_type": "code",
      "execution_count": null,
      "metadata": {
        "collapsed": false
      },
      "outputs": [],
      "source": [
        "array = mip.pixel_values(dims=('SliceLocation', 'ImageNumber'))\nprint(array.shape)\n\n\n# sphinx_gallery_thumbnail_path = '_static/dbd.png'"
      ]
    }
  ],
  "metadata": {
    "kernelspec": {
      "display_name": "Python 3",
      "language": "python",
      "name": "python3"
    },
    "language_info": {
      "codemirror_mode": {
        "name": "ipython",
        "version": 3
      },
      "file_extension": ".py",
      "mimetype": "text/x-python",
      "name": "python",
      "nbconvert_exporter": "python",
      "pygments_lexer": "ipython3",
      "version": "3.10.16"
    }
  },
  "nbformat": 4,
  "nbformat_minor": 0
}