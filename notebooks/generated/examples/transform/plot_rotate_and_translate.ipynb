{
  "cells": [
    {
      "cell_type": "markdown",
      "metadata": {},
      "source": [
        "\n# Rotate and translate\n\nRotating and translating a 3D volume.\n\nThis example illustrates the use of the function `.rotate()` from the dbdicom extension `extension-vreg`. We use an ellipsoid digital reference object as test data and `.plot_surface()` from extension `extension-matplotlib` to visualise the results.\n"
      ]
    },
    {
      "cell_type": "code",
      "execution_count": null,
      "metadata": {
        "collapsed": false
      },
      "outputs": [],
      "source": [
        "import numpy as np\n\nfrom dbdicom.dro import double_ellipsoid\nfrom dbdicom.extensions.vreg import rotate\nfrom dbdicom.extensions.matplotlib import plot_surface, plot_mosaic\n\n# Choose image 1 as a thumbnail for the gallery\n# sphinx_gallery_thumbnail_number = 2"
      ]
    },
    {
      "cell_type": "markdown",
      "metadata": {},
      "source": [
        "Generate and display an ellipsoid test object\n\n"
      ]
    },
    {
      "cell_type": "code",
      "execution_count": null,
      "metadata": {
        "collapsed": false
      },
      "outputs": [],
      "source": [
        "ellipsoid_orig = double_ellipsoid(12, 40, 32, spacing=(2,3,1), levelset=True)\nplot_surface(ellipsoid_orig)"
      ]
    },
    {
      "cell_type": "markdown",
      "metadata": {},
      "source": [
        "Define a rotation vector, apply it and display the result again.\n\n"
      ]
    },
    {
      "cell_type": "code",
      "execution_count": null,
      "metadata": {
        "collapsed": false
      },
      "outputs": [],
      "source": [
        "# Define an anticlockwise rotation of 30 degrees around the y-axis\nrotation = -30*(np.pi/180)*np.array([0,1,0])\n\n# Perform the rotation and return a rotated series\nellipsoid_rot = rotate(ellipsoid_orig, rotation, reshape=True, mode='nearest')\n\n# Display the surface of the rotated shape\nplot_surface(ellipsoid_rot)"
      ]
    },
    {
      "cell_type": "markdown",
      "metadata": {},
      "source": [
        "Display the rotated shape as a mosaic\n\n"
      ]
    },
    {
      "cell_type": "code",
      "execution_count": null,
      "metadata": {
        "collapsed": false
      },
      "outputs": [],
      "source": [
        "plot_mosaic(ellipsoid_rot)"
      ]
    },
    {
      "cell_type": "markdown",
      "metadata": {},
      "source": [
        "When applying the rotation we used the `mode='nearest'` so that the values outside the boundaries of the volume are filled by nearest neighbour sampling. The default setting would fill these with a `constant=0` value, producing an additional surface at the edge of the volume:\n\n"
      ]
    },
    {
      "cell_type": "code",
      "execution_count": null,
      "metadata": {
        "collapsed": false
      },
      "outputs": [],
      "source": [
        "ellipsoid_rot = rotate(ellipsoid_orig, rotation, reshape=True)\nplot_surface(ellipsoid_rot)"
      ]
    },
    {
      "cell_type": "markdown",
      "metadata": {},
      "source": [
        "We used `reshape=True` so the new volume would encompass the entire shape. Running this with the default setting of `reshape=False` retains the original image shape and therefore misses part of the rotated volume:\n\n"
      ]
    },
    {
      "cell_type": "code",
      "execution_count": null,
      "metadata": {
        "collapsed": false
      },
      "outputs": [],
      "source": [
        "ellipsoid_rot = rotate(ellipsoid_orig, rotation, reshape=False, mode='nearest')\nplot_surface(ellipsoid_rot)"
      ]
    }
  ],
  "metadata": {
    "kernelspec": {
      "display_name": "Python 3",
      "language": "python",
      "name": "python3"
    },
    "language_info": {
      "codemirror_mode": {
        "name": "ipython",
        "version": 3
      },
      "file_extension": ".py",
      "mimetype": "text/x-python",
      "name": "python",
      "nbconvert_exporter": "python",
      "pygments_lexer": "ipython3",
      "version": "3.10.10"
    }
  },
  "nbformat": 4,
  "nbformat_minor": 0
}