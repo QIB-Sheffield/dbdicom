{
  "cells": [
    {
      "cell_type": "markdown",
      "metadata": {},
      "source": [
        "\n# T1-mapping with variable TR and FA\n\n5-dimensions dataset simulating MRI data collected fro T1-mapping using the technical of variable flip angles and repetition times. \n"
      ]
    },
    {
      "cell_type": "markdown",
      "metadata": {},
      "source": [
        "Gnerate synthetic data and extract coordinates and array.\n\n"
      ]
    },
    {
      "cell_type": "code",
      "execution_count": null,
      "metadata": {
        "collapsed": false
      },
      "outputs": [],
      "source": [
        "import numpy as np\nfrom dbdicom import dro\n\ndata = dro.T1_mapping_vFATR()\ndims = ('SliceLocation', 'FlipAngle', 'RepetitionTime')\n#coords = data.coords(dims)"
      ]
    },
    {
      "cell_type": "markdown",
      "metadata": {},
      "source": [
        "Display the data at the smallest flip angle and repetition time\n\n"
      ]
    },
    {
      "cell_type": "code",
      "execution_count": null,
      "metadata": {
        "collapsed": false
      },
      "outputs": [],
      "source": [
        "from dbdicom.extensions.matplotlib import plot_mosaic\n\nim0 = data.extract(FlipAngle=20, RepetitionTime=5.0)\nplot_mosaic(im0, zdim='SliceLocation', gridspacing=500) \n\n\n# Choose the last image as a thumbnail for the gallery\n# sphinx_gallery_thumbnail_number = -1"
      ]
    }
  ],
  "metadata": {
    "kernelspec": {
      "display_name": "Python 3",
      "language": "python",
      "name": "python3"
    },
    "language_info": {
      "codemirror_mode": {
        "name": "ipython",
        "version": 3
      },
      "file_extension": ".py",
      "mimetype": "text/x-python",
      "name": "python",
      "nbconvert_exporter": "python",
      "pygments_lexer": "ipython3",
      "version": "3.10.10"
    }
  },
  "nbformat": 4,
  "nbformat_minor": 0
}